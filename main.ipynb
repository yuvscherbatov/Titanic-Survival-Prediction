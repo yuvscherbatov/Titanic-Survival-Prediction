{
 "cells": [
  {
   "cell_type": "markdown",
   "id": "a05b30b7",
   "metadata": {},
   "source": [
    "## Метрика оценивания соревнования на Kaggle"
   ]
  },
  {
   "cell_type": "markdown",
   "id": "8ac0441f",
   "metadata": {},
   "source": [
    "Метрикой оценки является процент верно классифицированных пассажиров, т.е. точность(accuracy)."
   ]
  },
  {
   "cell_type": "markdown",
   "id": "aae5efb4",
   "metadata": {},
   "source": [
    "## Загрузка библиотек"
   ]
  },
  {
   "cell_type": "code",
   "execution_count": 19,
   "id": "7bcee009",
   "metadata": {},
   "outputs": [],
   "source": [
    "import pandas as pd\n",
    "import numpy as np\n",
    "import matplotlib.pyplot as plt\n",
    "import seaborn as sns\n",
    "import time\n",
    "from sklearn.metrics import confusion_matrix, ConfusionMatrixDisplay, accuracy_score, precision_score, recall_score, f1_score, roc_auc_score\n",
    "from sklearn.model_selection import train_test_split, GridSearchCV, StratifiedKFold\n",
    "from sklearn.preprocessing import StandardScaler\n",
    "from lightgbm import LGBMClassifier, plot_importance\n",
    "from xgboost import XGBClassifier\n",
    "from catboost import CatBoostClassifier\n"
   ]
  },
  {
   "cell_type": "code",
   "execution_count": 20,
   "id": "aa339d2a",
   "metadata": {},
   "outputs": [],
   "source": [
    "sns.set(rc={'figure.figsize' : (7, 5)})\n",
    "sns.color_palette(\"pastel\")\n",
    "sns.set_style(\"ticks\") "
   ]
  },
  {
   "cell_type": "markdown",
   "id": "5815689a",
   "metadata": {},
   "source": [
    "## Функция для вывода метрик оценки модели"
   ]
  },
  {
   "cell_type": "code",
   "execution_count": 21,
   "id": "f170c674",
   "metadata": {},
   "outputs": [],
   "source": [
    "def metrics_summary(y_pred, y_pred_proba, model):\n",
    "    print('\\033[4mAccuracy\\033[0m: ', accuracy_score(y_test, y_pred))\n",
    "    print('Precision: ', precision_score(y_test, y_pred))\n",
    "    print('Recall: ', recall_score(y_test, y_pred))\n",
    "    print('F1: ', f1_score(y_test, y_pred))\n",
    "    print('ROC-AUC: ', roc_auc_score(y_test, y_pred_proba))\n",
    "\n",
    "    disp = ConfusionMatrixDisplay(confusion_matrix=confusion_matrix(y_test, y_pred, labels=model.classes_),\n",
    "                                  display_labels=model.classes_)\n",
    "    disp.plot()\n",
    "    plt.show()"
   ]
  },
  {
   "cell_type": "markdown",
   "id": "b0cebcae",
   "metadata": {},
   "source": [
    "## Функция для подбора параметров модели"
   ]
  },
  {
   "cell_type": "code",
   "execution_count": 22,
   "id": "190e6eab",
   "metadata": {},
   "outputs": [],
   "source": [
    "def find_best_parameters(X_train, y_train, model):\n",
    "    \n",
    "    parameters = {'iterations' : range(5, 150, 5),\n",
    "                  'learning_rate': [0.01, 0.05, 0.1],\n",
    "                  'max_depth': range(3, 13, 2)}\n",
    "\n",
    "    kf = StratifiedKFold(n_splits=5,\n",
    "                         shuffle=True,\n",
    "                         random_state=42)\n",
    "\n",
    "    grid_search_cv = GridSearchCV(estimator=model,\n",
    "                                  param_grid=parameters,\n",
    "                                  cv=kf,\n",
    "                                  scoring='accuracy')\n",
    "                                  \n",
    "    grid_search_cv.fit(X_train, y_train)\n",
    "\n",
    "    print(\"Лучшие параметры модели: \", grid_search_cv.best_params_)\n",
    "    \n",
    "    return grid_search_cv.best_estimator_"
   ]
  },
  {
   "cell_type": "markdown",
   "id": "8b1f0302",
   "metadata": {},
   "source": [
    "## Загрузка данных"
   ]
  },
  {
   "cell_type": "code",
   "execution_count": 23,
   "id": "3e05ecc1",
   "metadata": {},
   "outputs": [],
   "source": [
    "train_df = pd.read_csv('data/preprocessed_data/train.csv')\n",
    "test_df = pd.read_csv('data/preprocessed_data/test.csv')"
   ]
  },
  {
   "cell_type": "markdown",
   "id": "c593b06c",
   "metadata": {},
   "source": [
    "Сохраняю PassengerId для создания файла с прогнозом и загрузки решения на Kaggle"
   ]
  },
  {
   "cell_type": "code",
   "execution_count": 24,
   "id": "1523cda6",
   "metadata": {},
   "outputs": [],
   "source": [
    "submission = pd.DataFrame(test_df[\"PassengerId\"])"
   ]
  },
  {
   "cell_type": "markdown",
   "id": "298b4450",
   "metadata": {},
   "source": [
    "## Создание признаков Relatives и IsAlone"
   ]
  },
  {
   "cell_type": "code",
   "execution_count": 25,
   "id": "962a65b5",
   "metadata": {},
   "outputs": [],
   "source": [
    "for df in [train_df, test_df]:\n",
    "    df['Relatives'] = df['SibSp'] + df['Parch']\n",
    "    df.loc[df['Relatives'] > 0, 'IsAlone'] = 0\n",
    "    df.loc[df['Relatives'] == 0, 'IsAlone'] = 1\n",
    "for df in [train_df, test_df]:\n",
    "    df['IsAlone'] = df['IsAlone'].astype(int)"
   ]
  },
  {
   "cell_type": "markdown",
   "id": "611ec4c2",
   "metadata": {},
   "source": [
    "Удаляю признаки _SibSp_ и _Parch_ по скольку при наличии нового признака _Relatives_ они не будут нести для модели никакой новой информации. PassengerId нужен только для файла с прогнозами."
   ]
  },
  {
   "cell_type": "code",
   "execution_count": 26,
   "id": "401f3195",
   "metadata": {},
   "outputs": [],
   "source": [
    "for df in [train_df, test_df]:\n",
    "    df.drop(['SibSp'], axis=1, inplace=True)\n",
    "    df.drop(['Parch'], axis=1, inplace=True)\n",
    "    df.drop(['PassengerId'], axis=1, inplace=True)"
   ]
  },
  {
   "cell_type": "markdown",
   "id": "89864667",
   "metadata": {},
   "source": [
    "## Создание фиктивных признаков и стандартизация числовых"
   ]
  },
  {
   "cell_type": "markdown",
   "id": "8a5d83f7",
   "metadata": {},
   "source": [
    "Использую метод get_dummies, который создает k-1 признаков из категориальных, где k - кол-во групп. Например порт посадки _Embarked_ имеет 3 различных значений, будет созданно 2 фиктивных признака."
   ]
  },
  {
   "cell_type": "code",
   "execution_count": 27,
   "id": "8e693f50",
   "metadata": {},
   "outputs": [],
   "source": [
    "train_df = pd.get_dummies(train_df, columns=['Pclass', 'Sex', 'Embarked'], drop_first=True, dtype=int)\n",
    "test_df = pd.get_dummies(test_df, columns=['Pclass', 'Sex', 'Embarked'], drop_first=True, dtype=int)"
   ]
  },
  {
   "cell_type": "code",
   "execution_count": 28,
   "id": "2676829d",
   "metadata": {},
   "outputs": [],
   "source": [
    "scaler = StandardScaler()\n",
    "train_df[['Age', 'Fare', 'Relatives']] = scaler.fit_transform(train_df[['Age', 'Fare', 'Relatives']])\n",
    "test_df[['Age', 'Fare', 'Relatives']] = scaler.fit_transform(test_df[['Age', 'Fare', 'Relatives']])"
   ]
  },
  {
   "cell_type": "markdown",
   "id": "b583afe1",
   "metadata": {},
   "source": [
    "## Итоговый вид датафреймов"
   ]
  },
  {
   "cell_type": "code",
   "execution_count": 29,
   "id": "7a8798b3",
   "metadata": {},
   "outputs": [
    {
     "data": {
      "text/html": [
       "<div>\n",
       "<style scoped>\n",
       "    .dataframe tbody tr th:only-of-type {\n",
       "        vertical-align: middle;\n",
       "    }\n",
       "\n",
       "    .dataframe tbody tr th {\n",
       "        vertical-align: top;\n",
       "    }\n",
       "\n",
       "    .dataframe thead th {\n",
       "        text-align: right;\n",
       "    }\n",
       "</style>\n",
       "<table border=\"1\" class=\"dataframe\">\n",
       "  <thead>\n",
       "    <tr style=\"text-align: right;\">\n",
       "      <th></th>\n",
       "      <th>Survived</th>\n",
       "      <th>Age</th>\n",
       "      <th>Fare</th>\n",
       "      <th>Relatives</th>\n",
       "      <th>IsAlone</th>\n",
       "      <th>Pclass_2</th>\n",
       "      <th>Pclass_3</th>\n",
       "      <th>Sex_male</th>\n",
       "      <th>Embarked_Q</th>\n",
       "      <th>Embarked_S</th>\n",
       "    </tr>\n",
       "  </thead>\n",
       "  <tbody>\n",
       "    <tr>\n",
       "      <th>0</th>\n",
       "      <td>0</td>\n",
       "      <td>-0.592481</td>\n",
       "      <td>-0.502445</td>\n",
       "      <td>0.059160</td>\n",
       "      <td>0</td>\n",
       "      <td>0</td>\n",
       "      <td>1</td>\n",
       "      <td>1</td>\n",
       "      <td>0</td>\n",
       "      <td>1</td>\n",
       "    </tr>\n",
       "    <tr>\n",
       "      <th>1</th>\n",
       "      <td>1</td>\n",
       "      <td>0.638789</td>\n",
       "      <td>0.786845</td>\n",
       "      <td>0.059160</td>\n",
       "      <td>0</td>\n",
       "      <td>0</td>\n",
       "      <td>0</td>\n",
       "      <td>0</td>\n",
       "      <td>0</td>\n",
       "      <td>0</td>\n",
       "    </tr>\n",
       "    <tr>\n",
       "      <th>2</th>\n",
       "      <td>1</td>\n",
       "      <td>-0.284663</td>\n",
       "      <td>-0.488854</td>\n",
       "      <td>-0.560975</td>\n",
       "      <td>1</td>\n",
       "      <td>0</td>\n",
       "      <td>1</td>\n",
       "      <td>0</td>\n",
       "      <td>0</td>\n",
       "      <td>1</td>\n",
       "    </tr>\n",
       "    <tr>\n",
       "      <th>3</th>\n",
       "      <td>1</td>\n",
       "      <td>0.407926</td>\n",
       "      <td>0.420730</td>\n",
       "      <td>0.059160</td>\n",
       "      <td>0</td>\n",
       "      <td>0</td>\n",
       "      <td>0</td>\n",
       "      <td>0</td>\n",
       "      <td>0</td>\n",
       "      <td>1</td>\n",
       "    </tr>\n",
       "    <tr>\n",
       "      <th>4</th>\n",
       "      <td>0</td>\n",
       "      <td>0.407926</td>\n",
       "      <td>-0.486337</td>\n",
       "      <td>-0.560975</td>\n",
       "      <td>1</td>\n",
       "      <td>0</td>\n",
       "      <td>1</td>\n",
       "      <td>1</td>\n",
       "      <td>0</td>\n",
       "      <td>1</td>\n",
       "    </tr>\n",
       "  </tbody>\n",
       "</table>\n",
       "</div>"
      ],
      "text/plain": [
       "   Survived       Age      Fare  Relatives  IsAlone  Pclass_2  Pclass_3  \\\n",
       "0         0 -0.592481 -0.502445   0.059160        0         0         1   \n",
       "1         1  0.638789  0.786845   0.059160        0         0         0   \n",
       "2         1 -0.284663 -0.488854  -0.560975        1         0         1   \n",
       "3         1  0.407926  0.420730   0.059160        0         0         0   \n",
       "4         0  0.407926 -0.486337  -0.560975        1         0         1   \n",
       "\n",
       "   Sex_male  Embarked_Q  Embarked_S  \n",
       "0         1           0           1  \n",
       "1         0           0           0  \n",
       "2         0           0           1  \n",
       "3         0           0           1  \n",
       "4         1           0           1  "
      ]
     },
     "execution_count": 29,
     "metadata": {},
     "output_type": "execute_result"
    }
   ],
   "source": [
    "train_df.head()"
   ]
  },
  {
   "cell_type": "code",
   "execution_count": 30,
   "id": "3b32071f",
   "metadata": {},
   "outputs": [
    {
     "data": {
      "text/html": [
       "<div>\n",
       "<style scoped>\n",
       "    .dataframe tbody tr th:only-of-type {\n",
       "        vertical-align: middle;\n",
       "    }\n",
       "\n",
       "    .dataframe tbody tr th {\n",
       "        vertical-align: top;\n",
       "    }\n",
       "\n",
       "    .dataframe thead th {\n",
       "        text-align: right;\n",
       "    }\n",
       "</style>\n",
       "<table border=\"1\" class=\"dataframe\">\n",
       "  <thead>\n",
       "    <tr style=\"text-align: right;\">\n",
       "      <th></th>\n",
       "      <th>Age</th>\n",
       "      <th>Fare</th>\n",
       "      <th>Relatives</th>\n",
       "      <th>IsAlone</th>\n",
       "      <th>Pclass_2</th>\n",
       "      <th>Pclass_3</th>\n",
       "      <th>Sex_male</th>\n",
       "      <th>Embarked_Q</th>\n",
       "      <th>Embarked_S</th>\n",
       "    </tr>\n",
       "  </thead>\n",
       "  <tbody>\n",
       "    <tr>\n",
       "      <th>0</th>\n",
       "      <td>0.344284</td>\n",
       "      <td>-0.498258</td>\n",
       "      <td>-0.553443</td>\n",
       "      <td>1</td>\n",
       "      <td>0</td>\n",
       "      <td>1</td>\n",
       "      <td>1</td>\n",
       "      <td>1</td>\n",
       "      <td>0</td>\n",
       "    </tr>\n",
       "    <tr>\n",
       "      <th>1</th>\n",
       "      <td>1.334655</td>\n",
       "      <td>-0.513125</td>\n",
       "      <td>0.105643</td>\n",
       "      <td>0</td>\n",
       "      <td>0</td>\n",
       "      <td>1</td>\n",
       "      <td>0</td>\n",
       "      <td>0</td>\n",
       "      <td>1</td>\n",
       "    </tr>\n",
       "    <tr>\n",
       "      <th>2</th>\n",
       "      <td>2.523099</td>\n",
       "      <td>-0.464940</td>\n",
       "      <td>-0.553443</td>\n",
       "      <td>1</td>\n",
       "      <td>1</td>\n",
       "      <td>0</td>\n",
       "      <td>1</td>\n",
       "      <td>1</td>\n",
       "      <td>0</td>\n",
       "    </tr>\n",
       "    <tr>\n",
       "      <th>3</th>\n",
       "      <td>-0.249938</td>\n",
       "      <td>-0.483317</td>\n",
       "      <td>-0.553443</td>\n",
       "      <td>1</td>\n",
       "      <td>0</td>\n",
       "      <td>1</td>\n",
       "      <td>1</td>\n",
       "      <td>0</td>\n",
       "      <td>1</td>\n",
       "    </tr>\n",
       "    <tr>\n",
       "      <th>4</th>\n",
       "      <td>-0.646086</td>\n",
       "      <td>-0.418323</td>\n",
       "      <td>0.764728</td>\n",
       "      <td>0</td>\n",
       "      <td>0</td>\n",
       "      <td>1</td>\n",
       "      <td>0</td>\n",
       "      <td>0</td>\n",
       "      <td>1</td>\n",
       "    </tr>\n",
       "  </tbody>\n",
       "</table>\n",
       "</div>"
      ],
      "text/plain": [
       "        Age      Fare  Relatives  IsAlone  Pclass_2  Pclass_3  Sex_male  \\\n",
       "0  0.344284 -0.498258  -0.553443        1         0         1         1   \n",
       "1  1.334655 -0.513125   0.105643        0         0         1         0   \n",
       "2  2.523099 -0.464940  -0.553443        1         1         0         1   \n",
       "3 -0.249938 -0.483317  -0.553443        1         0         1         1   \n",
       "4 -0.646086 -0.418323   0.764728        0         0         1         0   \n",
       "\n",
       "   Embarked_Q  Embarked_S  \n",
       "0           1           0  \n",
       "1           0           1  \n",
       "2           1           0  \n",
       "3           0           1  \n",
       "4           0           1  "
      ]
     },
     "execution_count": 30,
     "metadata": {},
     "output_type": "execute_result"
    }
   ],
   "source": [
    "test_df.head()"
   ]
  },
  {
   "cell_type": "markdown",
   "id": "4debcbd8",
   "metadata": {},
   "source": [
    "## Разделение данных на тренировочную и тестовую выборки"
   ]
  },
  {
   "cell_type": "code",
   "execution_count": 31,
   "id": "54a7b2e8",
   "metadata": {},
   "outputs": [],
   "source": [
    "X = train_df.drop(['Survived'], axis = 1)\n",
    "y = train_df['Survived']"
   ]
  },
  {
   "cell_type": "code",
   "execution_count": 32,
   "id": "4f35bb9e",
   "metadata": {},
   "outputs": [],
   "source": [
    "X_train, X_test, y_train, y_test = train_test_split(X, y, test_size=0.2, random_state=42)"
   ]
  },
  {
   "cell_type": "code",
   "execution_count": 33,
   "id": "cb446b52",
   "metadata": {},
   "outputs": [
    {
     "name": "stdout",
     "output_type": "stream",
     "text": [
      "Размер тренировочной выборки:  712\n",
      "Размер тестовой выборки:  179\n"
     ]
    }
   ],
   "source": [
    "print(\"Размер тренировочной выборки: \", X_train.shape[0])\n",
    "print(\"Размер тестовой выборки: \", X_test.shape[0])"
   ]
  },
  {
   "cell_type": "markdown",
   "id": "68e32fa5",
   "metadata": {},
   "source": [
    "## Модель LightGBM"
   ]
  },
  {
   "cell_type": "markdown",
   "id": "1d7f5b85",
   "metadata": {},
   "source": [
    "### Подбор параметров с помощью кросс-валидации"
   ]
  },
  {
   "cell_type": "code",
   "execution_count": 34,
   "id": "5c575a6a",
   "metadata": {},
   "outputs": [
    {
     "name": "stdout",
     "output_type": "stream",
     "text": [
      "Лучшие параметры модели:  {'iterations': 5, 'learning_rate': 0.1, 'max_depth': 3}\n",
      "Общее время, затраченное на кросс-валидацию (в секундах): 145.82660698890686\n"
     ]
    }
   ],
   "source": [
    "start_time = time.time()\n",
    "best_lgbm_clf = find_best_parameters(X_train, y_train, LGBMClassifier(class_weight='balanced', verbose=-1))\n",
    "end_time = time.time()\n",
    "print(\"Общее время, затраченное на кросс-валидацию (в секундах):\", end_time - start_time)"
   ]
  },
  {
   "cell_type": "markdown",
   "id": "e7cb18ff",
   "metadata": {},
   "source": [
    "### Важность признаков"
   ]
  },
  {
   "cell_type": "code",
   "execution_count": 35,
   "id": "6b578097",
   "metadata": {},
   "outputs": [
    {
     "data": {
      "image/png": "[encoded data removed]",
      "text/plain": [
       "<Figure size 700x500 with 1 Axes>"
      ]
     },
     "metadata": {},
     "output_type": "display_data"
    }
   ],
   "source": [
    "importances = best_lgbm_clf.feature_importances_\n",
    "feature_importances = pd.Series(importances, index=X_train.columns).sort_values(ascending=False)\n",
    "sns.barplot(feature_importances, orient=\"h\")\n",
    "plt.title(\"LightGBM Feature Importance\")\n",
    "plt.show()"
   ]
  },
  {
   "cell_type": "markdown",
   "id": "e3762bdd",
   "metadata": {},
   "source": [
    "### Тестирование модели и результаты по основным метрикам"
   ]
  },
  {
   "cell_type": "code",
   "execution_count": 36,
   "id": "ae2cb2ba",
   "metadata": {},
   "outputs": [],
   "source": [
    "y_pred = best_lgbm_clf.predict(X_test)\n",
    "y_pred_proba = best_lgbm_clf.predict_proba(X_test)[:, 1]"
   ]
  },
  {
   "cell_type": "code",
   "execution_count": 37,
   "id": "2d18a8c5",
   "metadata": {},
   "outputs": [
    {
     "name": "stdout",
     "output_type": "stream",
     "text": [
      "\u001b[4mAccuracy\u001b[0m:  0.8379888268156425\n",
      "Precision:  0.8082191780821918\n",
      "Recall:  0.7972972972972973\n",
      "F1:  0.8027210884353742\n",
      "ROC-AUC:  0.8816602316602317\n"
     ]
    },
    {
     "data": {
      "image/png": "[encoded data removed]",
      "text/plain": [
       "<Figure size 700x500 with 2 Axes>"
      ]
     },
     "metadata": {},
     "output_type": "display_data"
    }
   ],
   "source": [
    "metrics_summary(y_pred, y_pred_proba, best_lgbm_clf)"
   ]
  },
  {
   "cell_type": "markdown",
   "id": "e9da77c1",
   "metadata": {},
   "source": [
    "### Kaggle Score"
   ]
  },
  {
   "cell_type": "code",
   "execution_count": 38,
   "id": "c9d4cfdb",
   "metadata": {},
   "outputs": [],
   "source": [
    "submission['Survived'] = best_lgbm_clf.predict(test_df)\n",
    "submission.to_csv(\"data/submissions/lgbm_submission.csv\", index=False)"
   ]
  },
  {
   "cell_type": "markdown",
   "id": "30285b26",
   "metadata": {},
   "source": [
    "![lgbm_submission](data/img/lgbm_submission.png)"
   ]
  },
  {
   "cell_type": "markdown",
   "id": "ad577be6",
   "metadata": {},
   "source": [
    "# Модель XGBoost"
   ]
  },
  {
   "cell_type": "markdown",
   "id": "99f0ecb4",
   "metadata": {},
   "source": [
    "### Подбор параметров с помощью кросс-валидации"
   ]
  },
  {
   "cell_type": "code",
   "execution_count": 39,
   "id": "e8b728a1",
   "metadata": {},
   "outputs": [
    {
     "name": "stdout",
     "output_type": "stream",
     "text": [
      "Лучшие параметры модели:  {'iterations': 5, 'learning_rate': 0.05, 'max_depth': 5}\n",
      "Общее время, затраченное на кросс-валидацию (в секундах): 183.54538464546204\n"
     ]
    }
   ],
   "source": [
    "start_time = time.time()\n",
    "best_xgb_clf = find_best_parameters(X_train, y_train, XGBClassifier(verbosity=0))\n",
    "end_time = time.time()\n",
    "print(\"Общее время, затраченное на кросс-валидацию (в секундах):\", end_time - start_time)"
   ]
  },
  {
   "cell_type": "markdown",
   "id": "291a77ba",
   "metadata": {},
   "source": [
    "### Важность признаков"
   ]
  },
  {
   "cell_type": "code",
   "execution_count": 40,
   "id": "371eacef",
   "metadata": {},
   "outputs": [
    {
     "data": {
      "image/png": "[encoded data removed]",
      "text/plain": [
       "<Figure size 700x500 with 1 Axes>"
      ]
     },
     "metadata": {},
     "output_type": "display_data"
    }
   ],
   "source": [
    "importances = best_xgb_clf.feature_importances_\n",
    "feature_importances = pd.Series(importances, index=X_train.columns).sort_values(ascending=False)\n",
    "sns.barplot(feature_importances, orient=\"h\")\n",
    "plt.title(\"XGBoost Feature Importance\")\n",
    "plt.show()"
   ]
  },
  {
   "cell_type": "markdown",
   "id": "7193480c",
   "metadata": {},
   "source": [
    "### Тестирование модели и результаты по основным метрикам"
   ]
  },
  {
   "cell_type": "code",
   "execution_count": 41,
   "id": "e59dd433",
   "metadata": {},
   "outputs": [],
   "source": [
    "y_pred = best_xgb_clf.predict(X_test)\n",
    "y_pred_proba = best_xgb_clf.predict_proba(X_test)[:, 1]"
   ]
  },
  {
   "cell_type": "code",
   "execution_count": 42,
   "id": "9a571d2d",
   "metadata": {},
   "outputs": [
    {
     "name": "stdout",
     "output_type": "stream",
     "text": [
      "\u001b[4mAccuracy\u001b[0m:  0.8156424581005587\n",
      "Precision:  0.8253968253968254\n",
      "Recall:  0.7027027027027027\n",
      "F1:  0.7591240875912408\n",
      "ROC-AUC:  0.8967824967824969\n"
     ]
    },
    {
     "data": {
      "image/png": "[encoded data removed]",
      "text/plain": [
       "<Figure size 700x500 with 2 Axes>"
      ]
     },
     "metadata": {},
     "output_type": "display_data"
    }
   ],
   "source": [
    "metrics_summary(y_pred, y_pred_proba, best_xgb_clf)"
   ]
  },
  {
   "cell_type": "markdown",
   "id": "4fa73dee",
   "metadata": {},
   "source": [
    "### Kaggle Score"
   ]
  },
  {
   "cell_type": "code",
   "execution_count": 43,
   "id": "9801f556",
   "metadata": {},
   "outputs": [],
   "source": [
    "submission['Survived'] = best_xgb_clf.predict(test_df)\n",
    "submission.to_csv(\"data/submissions/xgb_submission.csv\", index=False)"
   ]
  },
  {
   "cell_type": "markdown",
   "id": "a766e108",
   "metadata": {},
   "source": [
    "![xgb_submission](data/img/xgb_submission.png)"
   ]
  },
  {
   "cell_type": "markdown",
   "id": "21772688",
   "metadata": {},
   "source": [
    "# Модель CatBoost"
   ]
  },
  {
   "cell_type": "markdown",
   "id": "7478a37d",
   "metadata": {},
   "source": [
    "### Подбор параметров с помощью кросс-валидации"
   ]
  },
  {
   "cell_type": "code",
   "execution_count": 44,
   "id": "19d1c293",
   "metadata": {},
   "outputs": [
    {
     "name": "stdout",
     "output_type": "stream",
     "text": [
      "Лучшие параметры модели:  {'iterations': 30, 'learning_rate': 0.05, 'max_depth': 7}\n",
      "Общее время, затраченное на кросс-валидацию (в секундах): 1851.908196926117\n"
     ]
    }
   ],
   "source": [
    "start_time = time.time()\n",
    "best_catboost_clf = find_best_parameters(X_train, y_train, CatBoostClassifier(auto_class_weights='Balanced', loss_function='Logloss', verbose=False))\n",
    "end_time = time.time()\n",
    "print(\"Общее время, затраченное на кросс-валидацию (в секундах):\", end_time - start_time)"
   ]
  },
  {
   "cell_type": "markdown",
   "id": "c7ad3fcb",
   "metadata": {},
   "source": [
    "### Важность признаков"
   ]
  },
  {
   "cell_type": "code",
   "execution_count": 45,
   "id": "cacf7fa7",
   "metadata": {},
   "outputs": [
    {
     "data": {
      "image/png": "[encoded data removed]",
      "text/plain": [
       "<Figure size 700x500 with 1 Axes>"
      ]
     },
     "metadata": {},
     "output_type": "display_data"
    }
   ],
   "source": [
    "importances = best_catboost_clf.feature_importances_\n",
    "feature_importances = pd.Series(importances, index=X_train.columns).sort_values(ascending=False)\n",
    "sns.barplot(feature_importances, orient=\"h\")\n",
    "plt.title(\"CatBoost Feature Importance\")\n",
    "plt.show()"
   ]
  },
  {
   "cell_type": "markdown",
   "id": "d0883313",
   "metadata": {},
   "source": [
    "### Тестирование модели и результаты по основным метрикам"
   ]
  },
  {
   "cell_type": "code",
   "execution_count": 46,
   "id": "61928a8e",
   "metadata": {},
   "outputs": [],
   "source": [
    "y_pred = best_catboost_clf.predict(X_test)\n",
    "y_pred_proba = best_catboost_clf.predict_proba(X_test)[:, 1]"
   ]
  },
  {
   "cell_type": "code",
   "execution_count": 47,
   "id": "2634bbd1",
   "metadata": {},
   "outputs": [
    {
     "name": "stdout",
     "output_type": "stream",
     "text": [
      "\u001b[4mAccuracy\u001b[0m:  0.8156424581005587\n",
      "Precision:  0.8059701492537313\n",
      "Recall:  0.7297297297297297\n",
      "F1:  0.7659574468085106\n",
      "ROC-AUC:  0.8862934362934363\n"
     ]
    },
    {
     "data": {
      "image/png": "[encoded data removed]",
      "text/plain": [
       "<Figure size 700x500 with 2 Axes>"
      ]
     },
     "metadata": {},
     "output_type": "display_data"
    }
   ],
   "source": [
    "metrics_summary(y_pred, y_pred_proba, best_catboost_clf)"
   ]
  },
  {
   "cell_type": "markdown",
   "id": "f97a886a",
   "metadata": {},
   "source": [
    "### Kaggle Score"
   ]
  },
  {
   "cell_type": "code",
   "execution_count": 48,
   "id": "b44414af",
   "metadata": {},
   "outputs": [],
   "source": [
    "submission['Survived'] = best_catboost_clf.predict(test_df)\n",
    "submission.to_csv(\"data/submissions/catboost_submission.csv\", index=False)"
   ]
  },
  {
   "cell_type": "markdown",
   "id": "89443ae2",
   "metadata": {},
   "source": [
    "![catboost_submission](data/img/catboost_submission.png)"
   ]
  },
  {
   "cell_type": "markdown",
   "id": "65fda5c5",
   "metadata": {},
   "source": [
    "## Результаты"
   ]
  },
  {
   "cell_type": "markdown",
   "id": "f9835e03",
   "metadata": {},
   "source": [
    "- Были использованы, 2 искусствено сгенерированных признака: IsAlone и Relatives;\n",
    "- Для корректной обработки категориальных признаков были созданы фиктивные признаки;\n",
    "- Признаки подверглись стандартизации;\n",
    "- Были построены 3 модели градиетного бустинга с использованием библиотек LightGBM, XGBoost и CatBoost;\n",
    "- Для поиска лучших параметров моделей использовался метод GridSearchCV библиотеки scikit-learn;\n",
    "- Точность моделей находится примерно на одном уровне, CatBoost занимает первое место;\n",
    "- По времени выполнения кросс-валидации, CatBoost занимает последнее место с временем выполнения в 30 минут. Параметры LightGBM и XGBoost подбирались в течении примерно 1.5 минут."
   ]
  },
  {
   "cell_type": "markdown",
   "id": "9ca5774d",
   "metadata": {},
   "source": [
    "## Итоговые показатели метрики Accuracy для каждой модели на тестовой выборке"
   ]
  },
  {
   "cell_type": "markdown",
   "id": "951066ed",
   "metadata": {},
   "source": [
    "- **_LightGBM_** - 0.77272\n",
    "- **_XGBoost_** - 0.77033\n",
    "- **_CatBoost_** - 0.78468"
   ]
  }
 ],
 "metadata": {
  "kernelspec": {
   "display_name": "Python 3 (ipykernel)",
   "language": "python",
   "name": "python3"
  },
  "language_info": {
   "codemirror_mode": {
    "name": "ipython",
    "version": 3
   },
   "file_extension": ".py",
   "mimetype": "text/x-python",
   "name": "python",
   "nbconvert_exporter": "python",
   "pygments_lexer": "ipython3",
   "version": "3.10.7"
  }
 },
 "nbformat": 4,
 "nbformat_minor": 5
}
