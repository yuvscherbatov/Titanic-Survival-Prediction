{
 "cells": [
  {
   "cell_type": "markdown",
   "id": "a05b30b7",
   "metadata": {},
   "source": [
    "## Метрика оценивания соревнования на Kaggle"
   ]
  },
  {
   "cell_type": "markdown",
   "id": "8ac0441f",
   "metadata": {},
   "source": [
    "Метрикой оценки является процент верно классифицированных пассажиров, т.е. точность(accuracy)."
   ]
  },
  {
   "cell_type": "markdown",
   "id": "aae5efb4",
   "metadata": {},
   "source": [
    "## Загрузка библиотек"
   ]
  },
  {
   "cell_type": "code",
   "execution_count": 1,
   "id": "7bcee009",
   "metadata": {},
   "outputs": [],
   "source": [
    "import pandas as pd\n",
    "import numpy as np\n",
    "import matplotlib.pyplot as plt\n",
    "import seaborn as sns\n",
    "import time\n",
    "from sklearn.metrics import confusion_matrix, ConfusionMatrixDisplay, accuracy_score, precision_score, recall_score, f1_score, roc_auc_score, roc_curve\n",
    "from sklearn.model_selection import train_test_split, GridSearchCV, StratifiedKFold\n",
    "from sklearn.ensemble import RandomForestClassifier"
   ]
  },
  {
   "cell_type": "code",
   "execution_count": 2,
   "id": "aa339d2a",
   "metadata": {},
   "outputs": [],
   "source": [
    "sns.set(rc={'figure.figsize' : (7, 5)})\n",
    "sns.color_palette(\"pastel\")\n",
    "sns.set_style(\"ticks\") "
   ]
  },
  {
   "cell_type": "markdown",
   "id": "5815689a",
   "metadata": {},
   "source": [
    "## Функция для вывода метрик оценки модели"
   ]
  },
  {
   "cell_type": "code",
   "execution_count": 3,
   "id": "f170c674",
   "metadata": {},
   "outputs": [],
   "source": [
    "def metrics_summary(y_pred, y_pred_proba, model):\n",
    "    print('\\033[4mAccuracy\\033[0m: ', accuracy_score(y_test, y_pred))\n",
    "    print('Precision: ', precision_score(y_test, y_pred))\n",
    "    print('Recall: ', recall_score(y_test, y_pred))\n",
    "    print('F1: ', f1_score(y_test, y_pred))\n",
    "    print('ROC-AUC: ', roc_auc_score(y_test, y_pred_proba))\n",
    "\n",
    "    disp = ConfusionMatrixDisplay(confusion_matrix=confusion_matrix(y_test, y_pred, labels=model.classes_),\n",
    "                                  display_labels=model.classes_)\n",
    "    disp.plot()\n",
    "    plt.show()"
   ]
  },
  {
   "cell_type": "markdown",
   "id": "b0cebcae",
   "metadata": {},
   "source": [
    "## Функция для подбора параметров модели"
   ]
  },
  {
   "cell_type": "code",
   "execution_count": 4,
   "id": "190e6eab",
   "metadata": {},
   "outputs": [],
   "source": [
    "def find_best_parameters(X_train, y_train, model):\n",
    "\n",
    "    parameters = {'n_estimators' : range(5, 150, 5),\n",
    "                  'max_depth': range(3, 13, 2),\n",
    "                  'min_samples_split' : range(10, 20, 2),\n",
    "                  'min_samples_leaf' : range(10, 20, 2)}\n",
    "\n",
    "    kf = StratifiedKFold(n_splits=10,\n",
    "                         shuffle=True,\n",
    "                         random_state=42)\n",
    "\n",
    "    grid_search_cv = GridSearchCV(estimator=model,\n",
    "                                  param_grid=parameters,\n",
    "                                  cv=kf,\n",
    "                                  scoring='roc_auc',\n",
    "                                  n_jobs=-1,\n",
    "                                  verbose=0)\n",
    "\n",
    "    grid_search_cv.fit(X_train, y_train)\n",
    "    \n",
    "    return grid_search_cv.best_estimator_, grid_search_cv.best_params_"
   ]
  },
  {
   "cell_type": "markdown",
   "id": "8b1f0302",
   "metadata": {},
   "source": [
    "## Загрузка данных"
   ]
  },
  {
   "cell_type": "code",
   "execution_count": 5,
   "id": "3e05ecc1",
   "metadata": {},
   "outputs": [],
   "source": [
    "train_df = pd.read_csv('data/preprocessed_data/preprocessed_train.csv')\n",
    "test_df = pd.read_csv('data/preprocessed_data/preprocessed_test.csv')\n",
    "submission = pd.read_csv('data/preprocessed_data/submission.csv')"
   ]
  },
  {
   "cell_type": "markdown",
   "id": "611ec4c2",
   "metadata": {},
   "source": [
    "Удаляю признаки _SibSp_ и _Parch_ по скольку при наличии нового признака _Relatives_ они не будут нести для модели никакой новой информации."
   ]
  },
  {
   "cell_type": "code",
   "execution_count": 6,
   "id": "401f3195",
   "metadata": {},
   "outputs": [],
   "source": [
    "for df in [train_df, test_df]:\n",
    "    df.drop(['SibSp'], axis=1, inplace=True)\n",
    "    df.drop(['Parch'], axis=1, inplace=True)"
   ]
  },
  {
   "cell_type": "markdown",
   "id": "b583afe1",
   "metadata": {},
   "source": [
    "## Итоговый вид датафреймов"
   ]
  },
  {
   "cell_type": "code",
   "execution_count": 7,
   "id": "7a8798b3",
   "metadata": {},
   "outputs": [
    {
     "data": {
      "text/html": [
       "<div>\n",
       "<style scoped>\n",
       "    .dataframe tbody tr th:only-of-type {\n",
       "        vertical-align: middle;\n",
       "    }\n",
       "\n",
       "    .dataframe tbody tr th {\n",
       "        vertical-align: top;\n",
       "    }\n",
       "\n",
       "    .dataframe thead th {\n",
       "        text-align: right;\n",
       "    }\n",
       "</style>\n",
       "<table border=\"1\" class=\"dataframe\">\n",
       "  <thead>\n",
       "    <tr style=\"text-align: right;\">\n",
       "      <th></th>\n",
       "      <th>Survived</th>\n",
       "      <th>Age</th>\n",
       "      <th>Fare</th>\n",
       "      <th>Relatives</th>\n",
       "      <th>IsAlone</th>\n",
       "      <th>Sex_male</th>\n",
       "      <th>Embarked_Q</th>\n",
       "      <th>Embarked_S</th>\n",
       "      <th>Pclass_2</th>\n",
       "      <th>Pclass_3</th>\n",
       "    </tr>\n",
       "  </thead>\n",
       "  <tbody>\n",
       "    <tr>\n",
       "      <th>0</th>\n",
       "      <td>0</td>\n",
       "      <td>22.0</td>\n",
       "      <td>7.2500</td>\n",
       "      <td>1</td>\n",
       "      <td>0.0</td>\n",
       "      <td>True</td>\n",
       "      <td>False</td>\n",
       "      <td>True</td>\n",
       "      <td>False</td>\n",
       "      <td>True</td>\n",
       "    </tr>\n",
       "    <tr>\n",
       "      <th>1</th>\n",
       "      <td>1</td>\n",
       "      <td>38.0</td>\n",
       "      <td>71.2833</td>\n",
       "      <td>1</td>\n",
       "      <td>0.0</td>\n",
       "      <td>False</td>\n",
       "      <td>False</td>\n",
       "      <td>False</td>\n",
       "      <td>False</td>\n",
       "      <td>False</td>\n",
       "    </tr>\n",
       "    <tr>\n",
       "      <th>2</th>\n",
       "      <td>1</td>\n",
       "      <td>26.0</td>\n",
       "      <td>7.9250</td>\n",
       "      <td>0</td>\n",
       "      <td>1.0</td>\n",
       "      <td>False</td>\n",
       "      <td>False</td>\n",
       "      <td>True</td>\n",
       "      <td>False</td>\n",
       "      <td>True</td>\n",
       "    </tr>\n",
       "    <tr>\n",
       "      <th>3</th>\n",
       "      <td>1</td>\n",
       "      <td>35.0</td>\n",
       "      <td>53.1000</td>\n",
       "      <td>1</td>\n",
       "      <td>0.0</td>\n",
       "      <td>False</td>\n",
       "      <td>False</td>\n",
       "      <td>True</td>\n",
       "      <td>False</td>\n",
       "      <td>False</td>\n",
       "    </tr>\n",
       "    <tr>\n",
       "      <th>4</th>\n",
       "      <td>0</td>\n",
       "      <td>35.0</td>\n",
       "      <td>8.0500</td>\n",
       "      <td>0</td>\n",
       "      <td>1.0</td>\n",
       "      <td>True</td>\n",
       "      <td>False</td>\n",
       "      <td>True</td>\n",
       "      <td>False</td>\n",
       "      <td>True</td>\n",
       "    </tr>\n",
       "  </tbody>\n",
       "</table>\n",
       "</div>"
      ],
      "text/plain": [
       "   Survived   Age     Fare  Relatives  IsAlone  Sex_male  Embarked_Q  \\\n",
       "0         0  22.0   7.2500          1      0.0      True       False   \n",
       "1         1  38.0  71.2833          1      0.0     False       False   \n",
       "2         1  26.0   7.9250          0      1.0     False       False   \n",
       "3         1  35.0  53.1000          1      0.0     False       False   \n",
       "4         0  35.0   8.0500          0      1.0      True       False   \n",
       "\n",
       "   Embarked_S  Pclass_2  Pclass_3  \n",
       "0        True     False      True  \n",
       "1       False     False     False  \n",
       "2        True     False      True  \n",
       "3        True     False     False  \n",
       "4        True     False      True  "
      ]
     },
     "execution_count": 7,
     "metadata": {},
     "output_type": "execute_result"
    }
   ],
   "source": [
    "train_df.head()"
   ]
  },
  {
   "cell_type": "code",
   "execution_count": 8,
   "id": "3b32071f",
   "metadata": {},
   "outputs": [
    {
     "data": {
      "text/html": [
       "<div>\n",
       "<style scoped>\n",
       "    .dataframe tbody tr th:only-of-type {\n",
       "        vertical-align: middle;\n",
       "    }\n",
       "\n",
       "    .dataframe tbody tr th {\n",
       "        vertical-align: top;\n",
       "    }\n",
       "\n",
       "    .dataframe thead th {\n",
       "        text-align: right;\n",
       "    }\n",
       "</style>\n",
       "<table border=\"1\" class=\"dataframe\">\n",
       "  <thead>\n",
       "    <tr style=\"text-align: right;\">\n",
       "      <th></th>\n",
       "      <th>Age</th>\n",
       "      <th>Fare</th>\n",
       "      <th>Relatives</th>\n",
       "      <th>IsAlone</th>\n",
       "      <th>Sex_male</th>\n",
       "      <th>Embarked_Q</th>\n",
       "      <th>Embarked_S</th>\n",
       "      <th>Pclass_2</th>\n",
       "      <th>Pclass_3</th>\n",
       "    </tr>\n",
       "  </thead>\n",
       "  <tbody>\n",
       "    <tr>\n",
       "      <th>0</th>\n",
       "      <td>34.5</td>\n",
       "      <td>7.8292</td>\n",
       "      <td>0</td>\n",
       "      <td>1.0</td>\n",
       "      <td>True</td>\n",
       "      <td>True</td>\n",
       "      <td>False</td>\n",
       "      <td>False</td>\n",
       "      <td>True</td>\n",
       "    </tr>\n",
       "    <tr>\n",
       "      <th>1</th>\n",
       "      <td>47.0</td>\n",
       "      <td>7.0000</td>\n",
       "      <td>1</td>\n",
       "      <td>0.0</td>\n",
       "      <td>False</td>\n",
       "      <td>False</td>\n",
       "      <td>True</td>\n",
       "      <td>False</td>\n",
       "      <td>True</td>\n",
       "    </tr>\n",
       "    <tr>\n",
       "      <th>2</th>\n",
       "      <td>62.0</td>\n",
       "      <td>9.6875</td>\n",
       "      <td>0</td>\n",
       "      <td>1.0</td>\n",
       "      <td>True</td>\n",
       "      <td>True</td>\n",
       "      <td>False</td>\n",
       "      <td>True</td>\n",
       "      <td>False</td>\n",
       "    </tr>\n",
       "    <tr>\n",
       "      <th>3</th>\n",
       "      <td>27.0</td>\n",
       "      <td>8.6625</td>\n",
       "      <td>0</td>\n",
       "      <td>1.0</td>\n",
       "      <td>True</td>\n",
       "      <td>False</td>\n",
       "      <td>True</td>\n",
       "      <td>False</td>\n",
       "      <td>True</td>\n",
       "    </tr>\n",
       "    <tr>\n",
       "      <th>4</th>\n",
       "      <td>22.0</td>\n",
       "      <td>12.2875</td>\n",
       "      <td>2</td>\n",
       "      <td>0.0</td>\n",
       "      <td>False</td>\n",
       "      <td>False</td>\n",
       "      <td>True</td>\n",
       "      <td>False</td>\n",
       "      <td>True</td>\n",
       "    </tr>\n",
       "  </tbody>\n",
       "</table>\n",
       "</div>"
      ],
      "text/plain": [
       "    Age     Fare  Relatives  IsAlone  Sex_male  Embarked_Q  Embarked_S  \\\n",
       "0  34.5   7.8292          0      1.0      True        True       False   \n",
       "1  47.0   7.0000          1      0.0     False       False        True   \n",
       "2  62.0   9.6875          0      1.0      True        True       False   \n",
       "3  27.0   8.6625          0      1.0      True       False        True   \n",
       "4  22.0  12.2875          2      0.0     False       False        True   \n",
       "\n",
       "   Pclass_2  Pclass_3  \n",
       "0     False      True  \n",
       "1     False      True  \n",
       "2      True     False  \n",
       "3     False      True  \n",
       "4     False      True  "
      ]
     },
     "execution_count": 8,
     "metadata": {},
     "output_type": "execute_result"
    }
   ],
   "source": [
    "test_df.head()"
   ]
  },
  {
   "cell_type": "markdown",
   "id": "4debcbd8",
   "metadata": {},
   "source": [
    "## Разделение данных на тренировочную и тестовую выборки"
   ]
  },
  {
   "cell_type": "code",
   "execution_count": 9,
   "id": "54a7b2e8",
   "metadata": {},
   "outputs": [],
   "source": [
    "X = train_df.drop(['Survived'], axis = 1)\n",
    "y = train_df['Survived']\n",
    "X_train, X_test, y_train, y_test = train_test_split(X, y, test_size=0.2, random_state=42)"
   ]
  },
  {
   "cell_type": "code",
   "execution_count": 10,
   "id": "cb446b52",
   "metadata": {},
   "outputs": [
    {
     "name": "stdout",
     "output_type": "stream",
     "text": [
      "Размер тренировочной выборки:  712\n",
      "Размер тестовой выборки:  179\n"
     ]
    }
   ],
   "source": [
    "print(\"Размер тренировочной выборки: \", X_train.shape[0])\n",
    "print(\"Размер тестовой выборки: \", X_test.shape[0])"
   ]
  },
  {
   "cell_type": "markdown",
   "id": "68e32fa5",
   "metadata": {},
   "source": [
    "## Модель Random Forest"
   ]
  },
  {
   "cell_type": "markdown",
   "id": "1d7f5b85",
   "metadata": {},
   "source": [
    "### Подбор параметров с помощью кросс-валидации"
   ]
  },
  {
   "cell_type": "code",
   "execution_count": 11,
   "id": "5c575a6a",
   "metadata": {},
   "outputs": [],
   "source": [
    "rf_clf = RandomForestClassifier()\n",
    "start_time = time.time()\n",
    "best_rf_clf, best_rf_params = find_best_parameters(X_train, y_train, rf_clf)\n",
    "end_time = time.time()"
   ]
  },
  {
   "cell_type": "code",
   "execution_count": 12,
   "id": "de5fd8ad",
   "metadata": {},
   "outputs": [
    {
     "name": "stdout",
     "output_type": "stream",
     "text": [
      "Лучшие параметры: {'max_depth': 11, 'min_samples_leaf': 10, 'min_samples_split': 18, 'n_estimators': 5}\n",
      "Общее время, затраченное на кросс-валидацию (в минутах): 18.041418743133544\n"
     ]
    }
   ],
   "source": [
    "print(f'Лучшие параметры: {best_rf_params}')\n",
    "print(f'Общее время, затраченное на кросс-валидацию (в минутах): {(end_time - start_time)/60}')"
   ]
  },
  {
   "cell_type": "markdown",
   "id": "e7cb18ff",
   "metadata": {},
   "source": [
    "### Оценка важности признаков"
   ]
  },
  {
   "cell_type": "code",
   "execution_count": 13,
   "id": "6b578097",
   "metadata": {},
   "outputs": [
    {
     "data": {
      "image/png": "[encoded data removed]",
      "text/plain": [
       "<Figure size 700x500 with 1 Axes>"
      ]
     },
     "metadata": {},
     "output_type": "display_data"
    }
   ],
   "source": [
    "importances = best_rf_clf.feature_importances_\n",
    "feature_importances = pd.Series(importances, index=X_train.columns).sort_values(ascending=False)\n",
    "sns.barplot(feature_importances, orient=\"h\")\n",
    "plt.title(\"RandomForest Feature Importance\")\n",
    "plt.show()"
   ]
  },
  {
   "cell_type": "markdown",
   "id": "e3762bdd",
   "metadata": {},
   "source": [
    "### Тестирование модели и результаты по основным метрикам"
   ]
  },
  {
   "cell_type": "code",
   "execution_count": 14,
   "id": "ae2cb2ba",
   "metadata": {},
   "outputs": [
    {
     "name": "stdout",
     "output_type": "stream",
     "text": [
      "\u001b[4mAccuracy\u001b[0m:  0.8100558659217877\n",
      "Precision:  0.8448275862068966\n",
      "Recall:  0.6621621621621622\n",
      "F1:  0.7424242424242424\n",
      "ROC-AUC:  0.8857142857142857\n"
     ]
    },
    {
     "data": {
      "image/png": "[encoded data removed]",
      "text/plain": [
       "<Figure size 700x500 with 2 Axes>"
      ]
     },
     "metadata": {},
     "output_type": "display_data"
    }
   ],
   "source": [
    "y_pred = best_rf_clf.predict(X_test)\n",
    "y_pred_proba = best_rf_clf.predict_proba(X_test)[:, 1]\n",
    "metrics_summary(y_pred, y_pred_proba, best_rf_clf)"
   ]
  },
  {
   "cell_type": "code",
   "execution_count": 15,
   "id": "dde0867d",
   "metadata": {},
   "outputs": [
    {
     "data": {
      "image/png": "[encoded data removed]",
      "text/plain": [
       "<Figure size 700x500 with 1 Axes>"
      ]
     },
     "metadata": {},
     "output_type": "display_data"
    }
   ],
   "source": [
    "sns.set_style(\"ticks\")\n",
    "fpr, tpr, thresholds = roc_curve(y_test, y_pred)\n",
    "plt.plot(fpr, tpr, label=f'ROC-AUC кривая (AUC = {roc_auc_score(y_test, y_pred):.2f})')\n",
    "plt.plot([0, 1], [0, 1], linestyle='--', color='gray', label='Random')\n",
    "plt.xlabel('FPR')\n",
    "plt.ylabel('TPR')\n",
    "plt.title('ROC кривая')\n",
    "plt.legend()\n",
    "plt.style.use('ggplot')\n",
    "plt.show()"
   ]
  },
  {
   "cell_type": "markdown",
   "id": "e9da77c1",
   "metadata": {},
   "source": [
    "### Kaggle Score"
   ]
  },
  {
   "cell_type": "code",
   "execution_count": 16,
   "id": "c9d4cfdb",
   "metadata": {},
   "outputs": [],
   "source": [
    "submission['Survived'] = best_rf_clf.predict(test_df)\n",
    "submission.to_csv(\"data/submissions/rf_submission.csv\", index=False)"
   ]
  },
  {
   "cell_type": "markdown",
   "id": "30285b26",
   "metadata": {},
   "source": [
    "![rf_submission](data/img/rf_submission.png)"
   ]
  },
  {
   "cell_type": "markdown",
   "id": "65fda5c5",
   "metadata": {},
   "source": [
    "## Результаты"
   ]
  },
  {
   "cell_type": "markdown",
   "id": "f9835e03",
   "metadata": {},
   "source": [
    "- Были использованы, 2 искусствено сгенерированных признака: IsAlone и Relatives;\n",
    "- Для корректной обработки категориальных признаков были применен OneHotEncoding;\n",
    "- Была построенна модель Случайного леса;\n",
    "- Для поиска лучших параметров модели использовался метод GridSearchCV библиотеки scikit-learn;\n",
    "- Длительность кросс-валидации составила примерное 18 минут. "
   ]
  },
  {
   "cell_type": "markdown",
   "id": "9ca5774d",
   "metadata": {},
   "source": [
    "## Итоговые показатели метрики Accuracy модели на тестовой выборке"
   ]
  },
  {
   "cell_type": "markdown",
   "id": "951066ed",
   "metadata": {},
   "source": [
    "- **_Random Forest_** - 0.78229"
   ]
  }
 ],
 "metadata": {
  "kernelspec": {
   "display_name": "Python 3 (ipykernel)",
   "language": "python",
   "name": "python3"
  },
  "language_info": {
   "codemirror_mode": {
    "name": "ipython",
    "version": 3
   },
   "file_extension": ".py",
   "mimetype": "text/x-python",
   "name": "python",
   "nbconvert_exporter": "python",
   "pygments_lexer": "ipython3",
   "version": "3.10.7"
  }
 },
 "nbformat": 4,
 "nbformat_minor": 5
}
